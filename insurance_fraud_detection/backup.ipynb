{
 "cells": [
  {
   "cell_type": "code",
   "execution_count": null,
   "metadata": {},
   "outputs": [],
   "source": [
    "count_class_0, count_class_1 = df_all['Y'].value_counts()\n",
    "print(\"count_class_0\",count_class_0)\n",
    "print(\"count_class_1\",count_class_1)\n",
    "\n",
    "\n",
    "df_class_0 = df_all[df_all['Y'] == 0]#class 0\n",
    "df_class_1 = df_all[df_all['Y'] == 1]#class 1\n",
    "df_class_0_under = df_class_0.sample(count_class_1*9)#randomly pick 195 rows from class_O \n",
    "df_bal = pd.concat([df_class_0_under, df_class_1], axis=0)#merge\n",
    "\n",
    "\n",
    "df_bal['Y'].value_counts().plot(kind='bar', title='Count')\n",
    "\n",
    "\n",
    "\n",
    "#number feature\n",
    "df_num=df_all[num_features]\n",
    "df_num_1=df_num.fillna(-1)#replace Nan with -1\n",
    "\n",
    "\n",
    "#object_feature\n",
    "df_temp=pd.DataFrame()\n",
    "df_obj=df_all[object_features]\n",
    "df_obj_1=df_obj.fillna('None')#replace Nan with 'None'\n",
    "for c in df_obj_1.columns:#Labelencodeing\n",
    "    df_temp[c]=LabelEncoder().fit_transform(df_obj_1[c])\n",
    "    \n",
    "#merge them    \n",
    "df_num_1.reset_index(drop=True, inplace=True)\n",
    "df_temp.reset_index(drop=True, inplace=True)\n",
    "df_ml=pd.concat([df_temp,df_num_1],axis=1)"
   ]
  }
 ],
 "metadata": {
  "kernelspec": {
   "display_name": "Python 3",
   "language": "python",
   "name": "python3"
  },
  "language_info": {
   "codemirror_mode": {
    "name": "ipython",
    "version": 3
   },
   "file_extension": ".py",
   "mimetype": "text/x-python",
   "name": "python",
   "nbconvert_exporter": "python",
   "pygments_lexer": "ipython3",
   "version": "3.8.5"
  }
 },
 "nbformat": 4,
 "nbformat_minor": 4
}
